{
 "cells": [
  {
   "cell_type": "markdown",
   "id": "c8e42d5b",
   "metadata": {},
   "source": [
    "### Q1. Explain GET and POST methods."
   ]
  },
  {
   "cell_type": "markdown",
   "id": "702f6bfd",
   "metadata": {},
   "source": [
    "### The GET Method\n",
    "GET is used to request data from a specified resource.\n",
    "\n",
    "Note that the query string (name/value pairs) is sent in the URL of a GET request:"
   ]
  },
  {
   "cell_type": "markdown",
   "id": "8660ff77",
   "metadata": {},
   "source": [
    "/test/demo_form.php?name1=value1&name2=value2"
   ]
  },
  {
   "cell_type": "markdown",
   "id": "b6b55e36",
   "metadata": {},
   "source": [
    "### The POST Method\n",
    "POST is used to send data to a server to create/update a resource.\n",
    "\n",
    "The data sent to the server with POST is stored in the request body of the HTTP request:\n",
    "\n",
    "\n",
    "\n",
    "POST /test/demo_form.php HTTP/1.1\n",
    "Host: w3schools.com\n",
    "\n",
    "name1=value1&name2=value2"
   ]
  },
  {
   "cell_type": "markdown",
   "id": "fc7a995f",
   "metadata": {},
   "source": [
    "### Some important points about GET and POST methods:\n",
    "1. In terms of security and safety, the GET method is not considered as a safe method because we send the data as part of the URL, so there is a high chance of data insecurity. So, it is not considered for sensitive data like passwords etc.\n",
    "\n",
    "2. We can only send the ASCII character in the GET method, whereas there is no such restriction about the data in the POST method.\n",
    "\n",
    "3. Since we send the data in the URL section in the GET method, there is a limitation of the data which is being sent, whereas there is no data size limitation in the POST method because we send the data in the message section.\n",
    "\n",
    "4. As we know, we send the data as part of the URL in the GET method, so the data becomes part of the query string and is appended to the requesting URL."
   ]
  },
  {
   "cell_type": "markdown",
   "id": "8d9e4f89",
   "metadata": {},
   "source": [
    "### Q2. Why is request used in Flask?"
   ]
  },
  {
   "cell_type": "markdown",
   "id": "fcc490f3",
   "metadata": {},
   "source": [
    "The Flask request object contains all the information provided by the client during an HTTP request. Some of the things you can do with the request object include:\n",
    "\n",
    "1. Accessing the request method (e.g. GET, POST, etc.) using the request.method attribute.\n",
    "2. Accessing the URL used in the request using the request.url attribute.\n",
    "3. Accessing query string parameters (e.g. http://mywebsite.com/search?query=flask) using the request.args attribute.\n",
    "4. Accessing data sent in the request body (e.g. when submitting a form) using the request.form attribute.\n",
    "5. Accessing uploaded files using the request.files attribute."
   ]
  },
  {
   "cell_type": "markdown",
   "id": "4c5a2bf0",
   "metadata": {},
   "source": [
    "### Q4. What are templates in Flask? Why is the render_template() function used?"
   ]
  },
  {
   "cell_type": "markdown",
   "id": "27514fd1",
   "metadata": {},
   "source": [
    "Templates in Flask refer to HTML files that include placeholders and dynamic content. They are a fundamental part of creating dynamic web applications. Rather than writing the entire HTML content within Python code, templates allow you to separate the presentation (HTML structure) from the logic (Python code) in your Flask application. This separation of concerns enhances the maintainability, readability, and reusability of your codebase.\n",
    "\n",
    "Flask uses a template engine, typically Jinja2, to render dynamic content into HTML templates. The Jinja2 template engine enables you to embed Python code, logic, and placeholders directly within your HTML templates.\n",
    "\n",
    "The render_template() function in Flask is used to render these templates by combining them with the provided data. It takes the name of the template file and any optional data (variables) that you want to pass to the template. The template file is located within a designated folder (usually named \"templates\") in your Flask project directory.\n",
    "\n",
    "Here's why the render_template() function is used:\n",
    "\n",
    "##### Dynamic Content:\n",
    "In web applications, content often needs to be dynamic, generated based on user input, database queries, or other factors. The render_template() function allows you to inject this dynamic content into your HTML templates.\n",
    "\n",
    "##### Separation of Concerns:\n",
    "By using templates, you can separate the presentation layer (HTML) from the application logic (Python code). This separation improves code readability and maintainability, making it easier to work with both frontend and backend components.\n",
    "\n",
    "##### Code Reusability:\n",
    "Templates enable you to reuse common layout structures across multiple pages. For example, you can create a base template that includes the header, footer, and navigation, and then extend it for specific pages.\n",
    "\n",
    "##### Consistent Design: \n",
    "Templates help maintain a consistent design and layout across different pages of your application"
   ]
  },
  {
   "cell_type": "markdown",
   "id": "9006de6b",
   "metadata": {},
   "source": [
    "### Q5. Create a simple API. Use Postman to test it. Attach the screenshot of the output in the Jupyter Notebook."
   ]
  },
  {
   "cell_type": "code",
   "execution_count": 2,
   "id": "492d8c6d",
   "metadata": {},
   "outputs": [
    {
     "name": "stdout",
     "output_type": "stream",
     "text": [
      "Requirement already satisfied: flask in c:\\programdata\\anaconda3\\lib\\site-packages (1.1.2)Note: you may need to restart the kernel to use updated packages.\n",
      "\n",
      "Requirement already satisfied: Werkzeug>=0.15 in c:\\programdata\\anaconda3\\lib\\site-packages (from flask) (2.0.3)\n",
      "Requirement already satisfied: click>=5.1 in c:\\programdata\\anaconda3\\lib\\site-packages (from flask) (8.0.4)\n",
      "Requirement already satisfied: itsdangerous>=0.24 in c:\\programdata\\anaconda3\\lib\\site-packages (from flask) (2.0.1)\n",
      "Requirement already satisfied: Jinja2>=2.10.1 in c:\\programdata\\anaconda3\\lib\\site-packages (from flask) (2.11.3)\n",
      "Requirement already satisfied: colorama in c:\\programdata\\anaconda3\\lib\\site-packages (from click>=5.1->flask) (0.4.5)\n",
      "Requirement already satisfied: MarkupSafe>=0.23 in c:\\programdata\\anaconda3\\lib\\site-packages (from Jinja2>=2.10.1->flask) (2.0.1)\n"
     ]
    }
   ],
   "source": [
    "pip install flask"
   ]
  },
  {
   "cell_type": "code",
   "execution_count": null,
   "id": "0f03564e",
   "metadata": {},
   "outputs": [
    {
     "name": "stdout",
     "output_type": "stream",
     "text": [
      " * Serving Flask app \"__main__\" (lazy loading)\n",
      " * Environment: production\n",
      "\u001b[31m   WARNING: This is a development server. Do not use it in a production deployment.\u001b[0m\n",
      "\u001b[2m   Use a production WSGI server instead.\u001b[0m\n",
      " * Debug mode: off\n"
     ]
    },
    {
     "name": "stderr",
     "output_type": "stream",
     "text": [
      " * Running on http://127.0.0.1:5000/ (Press CTRL+C to quit)\n",
      "127.0.0.1 - - [29/Aug/2023 10:26:19] \"POST /postman_action HTTP/1.1\" 200 -\n"
     ]
    }
   ],
   "source": [
    "from flask import Flask,request ,render_template , jsonify\n",
    "\n",
    "app = Flask(__name__)\n",
    "\n",
    "\n",
    "@app.route('/postman_action',methods=['POST'])\n",
    "def math_ops1():\n",
    "    if(request.method == 'POST'):\n",
    "        ops = request.json['operation']\n",
    "        num1 = int(request.json['num1'])\n",
    "        num2 = int(request.json['num2'])\n",
    "        if ops == 'add':\n",
    "            r = num1+num2\n",
    "            result = \"The sum of \" + str(num1) + ' and ' + str(num2) + \" is \" + str(r)\n",
    "        if ops == 'subtract':\n",
    "            r = num1-num2\n",
    "            result = \"The subtract of \" + str(num1) + ' and ' + str(num2) + \" is \" + str(r)\n",
    "        if ops == 'multiply':\n",
    "            r = num1*num2\n",
    "            result = \"The multiply of \" + str(num1) + ' and ' + str(num2) + \" is \" + str(r)\n",
    "        if ops == 'divide':\n",
    "            r = num1/num2\n",
    "            result = \"The divide of \" + str(num1) + ' and ' + str(num2) + \" is \" + str(r)\n",
    "            \n",
    "        return jsonify(result)\n",
    "\n",
    "if __name__==\"__main__\":\n",
    "    app.run()"
   ]
  },
  {
   "attachments": {
    "postman%20test.png": {
     "image/png": "[encoded data removed]"
    }
   },
   "cell_type": "markdown",
   "id": "6a5b09a6",
   "metadata": {},
   "source": [
    "![postman%20test.png](attachment:postman%20test.png)"
   ]
  },
  {
   "cell_type": "markdown",
   "id": "938bc525",
   "metadata": {},
   "source": [
    "# The End"
   ]
  }
 ],
 "metadata": {
  "kernelspec": {
   "display_name": "Python 3 (ipykernel)",
   "language": "python",
   "name": "python3"
  },
  "language_info": {
   "codemirror_mode": {
    "name": "ipython",
    "version": 3
   },
   "file_extension": ".py",
   "mimetype": "text/x-python",
   "name": "python",
   "nbconvert_exporter": "python",
   "pygments_lexer": "ipython3",
   "version": "3.9.13"
  }
 },
 "nbformat": 4,
 "nbformat_minor": 5
}
